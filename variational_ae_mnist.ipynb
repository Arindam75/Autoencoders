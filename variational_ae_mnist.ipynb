{
 "cells": [
  {
   "cell_type": "markdown",
   "id": "ea1a7508-a805-4e6d-8345-9e5141851c56",
   "metadata": {},
   "source": [
    "__[Keras Example](https://keras.io/examples/generative/vae/)__\n",
    "\n",
    "__WIP__"
   ]
  },
  {
   "cell_type": "code",
   "execution_count": 1,
   "id": "88769eb3-d074-4394-a0c1-7a407825666a",
   "metadata": {},
   "outputs": [],
   "source": [
    "import os\n",
    "import tensorflow as tf\n",
    "from tensorflow import keras\n",
    "from keras.layers import Input, Conv2D, Flatten, Dense, Conv2DTranspose, Reshape, Lambda, Activation, BatchNormalization, ReLU, Dropout, Layer\n",
    "from keras.models import Model\n",
    "from keras import backend as K\n",
    "from keras.optimizers import Adam\n",
    "from keras.callbacks import ModelCheckpoint,LearningRateScheduler, EarlyStopping\n",
    "from keras.utils import plot_model\n",
    "import numpy as np\n",
    "import pickle\n",
    "import matplotlib.pyplot as plt\n",
    "from tensorflow.keras.datasets import mnist"
   ]
  },
  {
   "cell_type": "code",
   "execution_count": 2,
   "id": "6ee8a7a3-9cb1-42ee-a569-3a13b92bbe0e",
   "metadata": {},
   "outputs": [],
   "source": [
    "def load_mnist():\n",
    "    (x_train, y_train), (x_test, y_test) = mnist.load_data()\n",
    "\n",
    "    x_train = x_train.astype('float32') / 255.\n",
    "    #x_train = np.squeeze(x_train,3)\n",
    "    x_train = x_train.reshape(x_train.shape + (1,))\n",
    "    x_test = x_test.astype('float32') / 255.\n",
    "    x_test = x_test.reshape(x_test.shape + (1,))\n",
    "\n",
    "    return (x_train, y_train), (x_test, y_test)\n",
    "\n",
    "(x_train, y_train), (x_test, y_test) = load_mnist()"
   ]
  },
  {
   "cell_type": "code",
   "execution_count": 3,
   "id": "b94f9409-5092-4608-b0a6-244157f93a39",
   "metadata": {},
   "outputs": [
    {
     "data": {
      "text/plain": [
       "(60000, 28, 28, 1)"
      ]
     },
     "execution_count": 3,
     "metadata": {},
     "output_type": "execute_result"
    }
   ],
   "source": [
    "x_train.shape"
   ]
  },
  {
   "cell_type": "code",
   "execution_count": 4,
   "id": "63a89f13-9150-413b-9d3a-cea31a2813cd",
   "metadata": {},
   "outputs": [],
   "source": [
    "K.clear_session()"
   ]
  },
  {
   "cell_type": "code",
   "execution_count": 5,
   "id": "d57aa9fd-f26c-47c0-8f18-a061dc50018a",
   "metadata": {},
   "outputs": [
    {
     "name": "stdout",
     "output_type": "stream",
     "text": [
      "Train: X=(60000, 28, 28), y=(60000,)\n",
      "Test: X=(10000, 28, 28), y=(10000,)\n"
     ]
    }
   ],
   "source": [
    "\n",
    "# load dataset\n",
    "(trainX, trainy), (testX, testy) = mnist.load_data()\n",
    "\n",
    "trainX=trainX/255\n",
    "testX=testX/255\n",
    "\n",
    "# summarize loaded dataset\n",
    "print('Train: X=%s, y=%s' % (trainX.shape, trainy.shape))\n",
    "print('Test: X=%s, y=%s' % (testX.shape, testy.shape))"
   ]
  },
  {
   "cell_type": "code",
   "execution_count": 6,
   "id": "0f543627-6aaf-4093-8e14-4e543c7d4063",
   "metadata": {},
   "outputs": [],
   "source": [
    "class Sampling(Layer):\n",
    "    \"\"\"Uses (z_mean, z_log_var) to sample z, the vector encoding a digit.\"\"\"\n",
    "\n",
    "    def call(self, inputs):\n",
    "        z_mean, z_log_var = inputs\n",
    "        batch = tf.shape(z_mean)[0]\n",
    "        dim = tf.shape(z_mean)[1]\n",
    "        epsilon = tf.random.normal(shape=(batch, dim))\n",
    "        return z_mean + tf.exp(0.5 * z_log_var) * epsilon\n",
    "\n",
    "class VAE(keras.Model):\n",
    "    def __init__(self, encoder, decoder, **kwargs):\n",
    "        super().__init__(**kwargs)\n",
    "        self.encoder = encoder\n",
    "        self.decoder = decoder\n",
    "        self.total_loss_tracker = keras.metrics.Mean(name=\"total_loss\")\n",
    "        self.reconstruction_loss_tracker = keras.metrics.Mean(\n",
    "            name=\"reconstruction_loss\"\n",
    "        )\n",
    "        self.kl_loss_tracker = keras.metrics.Mean(name=\"kl_loss\")\n",
    "\n",
    "    @property\n",
    "    def metrics(self):\n",
    "        return [\n",
    "            self.total_loss_tracker,\n",
    "            self.reconstruction_loss_tracker,\n",
    "            self.kl_loss_tracker,\n",
    "        ]\n",
    "\n",
    "    def train_step(self, data):\n",
    "        with tf.GradientTape() as tape:\n",
    "            z_mean, z_log_var, z = self.encoder(data)\n",
    "            reconstruction = self.decoder(z)\n",
    "            reconstruction_loss = tf.reduce_mean(\n",
    "                tf.reduce_sum(\n",
    "                    keras.losses.mean_squared_error(data, reconstruction),\n",
    "                    axis=(1, 2),\n",
    "                )\n",
    "            )\n",
    "            kl_loss = -0.5 * (1 + z_log_var - tf.square(z_mean) - tf.exp(z_log_var))\n",
    "            kl_loss = tf.reduce_mean(tf.reduce_sum(kl_loss, axis=1))\n",
    "            total_loss = reconstruction_loss + kl_loss\n",
    "        grads = tape.gradient(total_loss, self.trainable_weights)\n",
    "        self.optimizer.apply_gradients(zip(grads, self.trainable_weights))\n",
    "        self.total_loss_tracker.update_state(total_loss)\n",
    "        self.reconstruction_loss_tracker.update_state(reconstruction_loss)\n",
    "        self.kl_loss_tracker.update_state(kl_loss)\n",
    "        return {\n",
    "            \"loss\": self.total_loss_tracker.result(),\n",
    "            \"reconstruction_loss\": self.reconstruction_loss_tracker.result(),\n",
    "            \"kl_loss\": self.kl_loss_tracker.result(),\n",
    "        }\n",
    "\n",
    "class VariationalAutoEncoder():\n",
    "\n",
    "    _ENC_FILTERS = [32,64,64,64]\n",
    "    _ENC_STRIDES = [1,2,2,1]\n",
    "    _FILTER_SIZE = [3,3,3,3]\n",
    "    _DEC_FILTERS = [64,64,32,1]\n",
    "    _DEC_STRIDES = [1,2,2,1]\n",
    "    _BATCH_NORM = True\n",
    "    _DROPOUT = 0.2\n",
    "\n",
    "    def __init__(self,input_dim, latent_space, r_loss_factor = 10, learning_rate = 0.001):\n",
    "\n",
    "        self.input_dim = input_dim\n",
    "        self.latent = latent_space\n",
    "        self.r_loss_factor = r_loss_factor = 10\n",
    "        self.learning_rate = learning_rate\n",
    "        self._build()\n",
    "\n",
    "    def _build(self):\n",
    "\n",
    "        ## Encoder Stack\n",
    "        \n",
    "        encoder_input = Input(shape = self.input_dim,name = 'encoder_input')\n",
    "        x = encoder_input\n",
    "\n",
    "        for lyr in range(len(self._ENC_FILTERS)):\n",
    "            conv_layer = Conv2D(filters = self._ENC_FILTERS[lyr],\n",
    "                              kernel_size = self._FILTER_SIZE[lyr],\n",
    "                              strides = self._ENC_STRIDES[lyr],\n",
    "                              name = 'encoder_conv'+str(lyr),\n",
    "                              padding ='same')\n",
    "            x = conv_layer(x)\n",
    "            x = ReLU()(x)\n",
    "            if self._BATCH_NORM == True:\n",
    "                x = BatchNormalization()(x)\n",
    "\n",
    "        shape_before_flattening = K.int_shape(x)[1:]\n",
    "        x = Flatten()(x)\n",
    "\n",
    "        mu = Dense(self.latent, name='mu')(x)\n",
    "        log_var = Dense(self.latent, name='log_var')(x)\n",
    "        z = Sampling(name='encoder_output')([mu, log_var])\n",
    "\n",
    "        self.encoder = Model(encoder_input, [mu, log_var, z], name = 'encoder')\n",
    "\n",
    "        ## Decoder Stack\n",
    "\n",
    "        decoder_input = Input(shape=self.latent,name = 'decoder_input')\n",
    "        x = Dense(np.prod(shape_before_flattening))(decoder_input)\n",
    "        x = Reshape(shape_before_flattening)(x)\n",
    "\n",
    "        for lyr in range(len(self._DEC_FILTERS)):\n",
    "\n",
    "            conv_t_layer = Conv2DTranspose(filters = self._DEC_FILTERS[lyr],\n",
    "                                         kernel_size = self._FILTER_SIZE[lyr],\n",
    "                                         strides = self._DEC_STRIDES[lyr],\n",
    "                                         name = 'decoder_conv_t'+str(lyr),\n",
    "                                         padding ='same')\n",
    "            x = conv_t_layer(x)\n",
    "\n",
    "            if lyr<len(self._DEC_FILTERS)-1:\n",
    "\n",
    "                x = ReLU()(x)\n",
    "\n",
    "                if self._BATCH_NORM == True:\n",
    "                    x = BatchNormalization()(x)\n",
    "            else:\n",
    "                x = Activation('sigmoid')(x)\n",
    "\n",
    "        decoder_output = x\n",
    "        self.decoder = Model(decoder_input,decoder_output, name = 'Decoder')"
   ]
  },
  {
   "cell_type": "code",
   "execution_count": 10,
   "id": "06022877-dfb8-464b-976b-4b4b7d0b8012",
   "metadata": {},
   "outputs": [],
   "source": [
    "vae = VariationalAutoEncoder(input_dim=(28,28,1), latent_space = 2)\n",
    "\n",
    "(x_train, _), (x_test, _) = keras.datasets.mnist.load_data()\n",
    "mnist_digits = np.concatenate([x_train, x_test], axis=0)\n",
    "mnist_digits = np.expand_dims(mnist_digits, -1).astype(\"float32\") / 255"
   ]
  },
  {
   "cell_type": "code",
   "execution_count": 11,
   "id": "2db0e5dd-f2e7-4884-9a88-497c1bde730c",
   "metadata": {},
   "outputs": [
    {
     "name": "stdout",
     "output_type": "stream",
     "text": [
      "Epoch 1/3\n",
      "4375/4375 [==============================] - 49s 9ms/step - loss: 47.6501 - reconstruction_loss: 38.6074 - kl_loss: 3.6834\n",
      "Epoch 2/3\n",
      "4375/4375 [==============================] - 42s 9ms/step - loss: 38.9777 - reconstruction_loss: 34.3655 - kl_loss: 4.4268\n",
      "Epoch 3/3\n",
      "4375/4375 [==============================] - 39s 9ms/step - loss: 38.1824 - reconstruction_loss: 33.4434 - kl_loss: 4.6051\n"
     ]
    },
    {
     "data": {
      "text/plain": [
       "<keras.callbacks.History at 0x2691f503610>"
      ]
     },
     "execution_count": 11,
     "metadata": {},
     "output_type": "execute_result"
    }
   ],
   "source": [
    "model = VAE(vae.encoder, vae.decoder)\n",
    "model.compile(optimizer=keras.optimizers.Adam())\n",
    "model.fit(mnist_digits, epochs=3, batch_size=16)"
   ]
  },
  {
   "cell_type": "code",
   "execution_count": null,
   "id": "945fd513-4395-4ef0-abb6-7a22a4f400e1",
   "metadata": {},
   "outputs": [],
   "source": []
  }
 ],
 "metadata": {
  "kernelspec": {
   "display_name": "tf",
   "language": "python",
   "name": "tf"
  },
  "language_info": {
   "codemirror_mode": {
    "name": "ipython",
    "version": 3
   },
   "file_extension": ".py",
   "mimetype": "text/x-python",
   "name": "python",
   "nbconvert_exporter": "python",
   "pygments_lexer": "ipython3",
   "version": "3.9.16"
  }
 },
 "nbformat": 4,
 "nbformat_minor": 5
}
