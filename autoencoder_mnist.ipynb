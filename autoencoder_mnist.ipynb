{
 "cells": [
  {
   "cell_type": "code",
   "execution_count": 26,
   "id": "3e46c793",
   "metadata": {
    "executionInfo": {
     "elapsed": 411,
     "status": "ok",
     "timestamp": 1687610357561,
     "user": {
      "displayName": "Arindam Dey",
      "userId": "10651625546197419632"
     },
     "user_tz": -330
    },
    "id": "3e46c793",
    "tags": []
   },
   "outputs": [],
   "source": [
    "import os\n",
    "import tensorflow as tf\n",
    "from tensorflow import keras\n",
    "from keras.layers import Input, Conv2D, Flatten, Dense, Conv2DTranspose, Reshape, Lambda, Activation, BatchNormalization, ReLU, Dropout\n",
    "from keras.models import Model\n",
    "from keras import backend as K\n",
    "from keras.optimizers import Adam\n",
    "from keras.callbacks import ModelCheckpoint,LearningRateScheduler, EarlyStopping\n",
    "from keras.utils import plot_model\n",
    "import numpy as np\n",
    "import pickle\n",
    "import matplotlib.pyplot as plt"
   ]
  },
  {
   "cell_type": "code",
   "execution_count": 27,
   "id": "112bf636",
   "metadata": {
    "executionInfo": {
     "elapsed": 3,
     "status": "ok",
     "timestamp": 1687610359178,
     "user": {
      "displayName": "Arindam Dey",
      "userId": "10651625546197419632"
     },
     "user_tz": -330
    },
    "id": "112bf636",
    "tags": []
   },
   "outputs": [],
   "source": [
    "K.clear_session()"
   ]
  },
  {
   "cell_type": "code",
   "execution_count": 28,
   "id": "24d6f5f2",
   "metadata": {
    "colab": {
     "base_uri": "https://localhost:8080/"
    },
    "executionInfo": {
     "elapsed": 1459,
     "status": "ok",
     "timestamp": 1687610360635,
     "user": {
      "displayName": "Arindam Dey",
      "userId": "10651625546197419632"
     },
     "user_tz": -330
    },
    "id": "24d6f5f2",
    "outputId": "146e0098-2f81-4347-e995-fd77ae0a54b1",
    "tags": []
   },
   "outputs": [
    {
     "name": "stdout",
     "output_type": "stream",
     "text": [
      "Train: X=(60000, 28, 28), y=(60000,)\n",
      "Test: X=(10000, 28, 28), y=(10000,)\n"
     ]
    }
   ],
   "source": [
    "from tensorflow.keras.datasets import mnist\n",
    "# load dataset\n",
    "(trainX, trainy), (testX, testy) = mnist.load_data()\n",
    "\n",
    "trainX=trainX/255\n",
    "testX=testX/255\n",
    "\n",
    "# summarize loaded dataset\n",
    "print('Train: X=%s, y=%s' % (trainX.shape, trainy.shape))\n",
    "print('Test: X=%s, y=%s' % (testX.shape, testy.shape))"
   ]
  },
  {
   "cell_type": "code",
   "execution_count": 45,
   "id": "bb74b87f",
   "metadata": {
    "executionInfo": {
     "elapsed": 3,
     "status": "ok",
     "timestamp": 1687610360636,
     "user": {
      "displayName": "Arindam Dey",
      "userId": "10651625546197419632"
     },
     "user_tz": -330
    },
    "id": "bb74b87f",
    "tags": []
   },
   "outputs": [],
   "source": [
    "def step_decay(epoch):\n",
    "\n",
    "    initial_lrate=0.001\n",
    "    step_size=10\n",
    "    decay_factor=0.5\n",
    "    new_lr=initial_lrate * (decay_factor ** np.floor(epoch/step_size))\n",
    "    print(new_lr,epoch)\n",
    "    return new_lr\n",
    "\n",
    "class AutoEncoder():\n",
    "\n",
    "    _ENC_FILTERS = [32,64,64,64]\n",
    "    _ENC_STRIDES = [1,2,2,1]\n",
    "    _FILTER_SIZE = [3,3,3,3]\n",
    "    _DEC_FILTERS = [64,64,32,1]\n",
    "    _DEC_STRIDES = [1,2,2,1]\n",
    "    _BATCH_NORM = True\n",
    "    _DROPOUT = 0.2\n",
    "\n",
    "    def __init__(self,input_dim, latent_space):\n",
    "\n",
    "        self.input_dim = input_dim\n",
    "        self.latent = latent_space\n",
    "\n",
    "    def _build_encoder(self):\n",
    "\n",
    "        encoder_input = Input(shape=self.input_dim,name='encoder_input')\n",
    "        x=encoder_input\n",
    "\n",
    "        for lyr in range(len(self._ENC_FILTERS)):\n",
    "\n",
    "            conv_layer = Conv2D(filters = self._ENC_FILTERS[lyr],\n",
    "                              kernel_size = self._FILTER_SIZE[lyr],\n",
    "                              strides = self._ENC_STRIDES[lyr],\n",
    "                              name = 'encoder_conv'+str(lyr),\n",
    "                              padding ='same')\n",
    "            x = conv_layer(x)\n",
    "            x = ReLU()(x)\n",
    "\n",
    "            if self._BATCH_NORM == True:\n",
    "                x = BatchNormalization()(x)\n",
    "\n",
    "        shape_before_flattening = K.int_shape(x)[1:]\n",
    "        x = Flatten()(x)\n",
    "        encoder_output = Dense(self.latent, name = 'encoder_output')(x)\n",
    "        encoder = Model(encoder_input, encoder_output, name = 'Encoder')\n",
    "\n",
    "        return encoder\n",
    "\n",
    "    def _build_decoder(self,shape_before_flattening):\n",
    "\n",
    "        decoder_input = Input(shape = self.latent,name = 'decoder_input')\n",
    "        x = Dense(np.prod(shape_before_flattening))(decoder_input)\n",
    "        x = Reshape(shape_before_flattening)(x)\n",
    "\n",
    "        for lyr in range(len(self._DEC_FILTERS)):\n",
    "\n",
    "            conv_t_layer = Conv2DTranspose(filters = self._DEC_FILTERS[lyr],\n",
    "                                         kernel_size = self._FILTER_SIZE[lyr],\n",
    "                                         strides=self._DEC_STRIDES[lyr],\n",
    "                                         name = 'decoder_conv_t'+str(lyr),\n",
    "                                         padding = 'same')\n",
    "            x = conv_t_layer(x)\n",
    "\n",
    "            if lyr<len(self._DEC_FILTERS)-1:\n",
    "\n",
    "                x = ReLU()(x)\n",
    "\n",
    "                if self._BATCH_NORM == True:\n",
    "                    x = BatchNormalization()(x)\n",
    "            else:\n",
    "                x=Activation('sigmoid')(x)\n",
    "\n",
    "        decoder_output = x\n",
    "        decoder = Model(decoder_input,decoder_output, name = 'Decoder')\n",
    "        return decoder\n",
    "\n",
    "    def fit(self,Xtr,Xval,**kwargs):\n",
    "\n",
    "        self.initial_lr = kwargs.get(\"initial_lr\", 0.001)\n",
    "        self.batch_size = kwargs.get(\"batch_size\", 32)\n",
    "        self.callbacks_list = kwargs.get(\"callbacks_list\", [])\n",
    "        self.epochs = kwargs.get(\"epochs\", 100)\n",
    "        self.shuffle = kwargs.get(\"shuffle\", True)\n",
    "\n",
    "        model, decoder, encoder = self.get_model()\n",
    "\n",
    "        model.fit(Xtr, Xtr,\n",
    "                       batch_size = self.batch_size,\n",
    "                       validation_data = (Xval,Xval),\n",
    "                       shuffle = self.shuffle,\n",
    "                       epochs = self.epochs,\n",
    "                       callbacks = self.callbacks_list)\n",
    "\n",
    "        self.model = model\n",
    "        self.decoder = decoder\n",
    "        self.encoder = encoder\n",
    "\n",
    "\n",
    "    def get_model(self):\n",
    "\n",
    "        #Autoencoder Layer\n",
    "        encoder = self._build_encoder()\n",
    "        shape_before_flattening = encoder.layers[-5].get_output_at(0).get_shape().as_list()[1:]\n",
    "        decoder = self._build_decoder(shape_before_flattening)\n",
    "\n",
    "        model_input = Input(shape=self.input_dim,name = 'encoder_input')\n",
    "        encoder_op = encoder(model_input)\n",
    "        decoder_op = decoder(encoder_op)\n",
    "\n",
    "        model = Model(model_input,decoder_op,name = 'ae_model')\n",
    "\n",
    "        model.compile(optimizer = Adam(learning_rate = 0.001),\n",
    "                           loss = 'mean_squared_error',\n",
    "                           )\n",
    "\n",
    "        return model, decoder, encoder"
   ]
  },
  {
   "cell_type": "code",
   "execution_count": 49,
   "id": "22ef9bac",
   "metadata": {
    "executionInfo": {
     "elapsed": 3,
     "status": "ok",
     "timestamp": 1687610360636,
     "user": {
      "displayName": "Arindam Dey",
      "userId": "10651625546197419632"
     },
     "user_tz": -330
    },
    "id": "22ef9bac",
    "tags": []
   },
   "outputs": [
    {
     "name": "stdout",
     "output_type": "stream",
     "text": [
      "Model: \"ae_model\"\n",
      "_________________________________________________________________\n",
      " Layer (type)                Output Shape              Param #   \n",
      "=================================================================\n",
      " encoder_input (InputLayer)  [(None, 28, 28, 1)]       0         \n",
      "                                                                 \n",
      " Encoder (Functional)        (None, 16)                143760    \n",
      "                                                                 \n",
      " Decoder (Functional)        (None, 28, 28, 1)         146561    \n",
      "                                                                 \n",
      "=================================================================\n",
      "Total params: 290,321\n",
      "Trainable params: 289,553\n",
      "Non-trainable params: 768\n",
      "_________________________________________________________________\n"
     ]
    }
   ],
   "source": [
    "ae = AutoEncoder(input_dim=(28,28,1), latent_space = 16)\n",
    "model, decoder, encoder = ae.get_model()\n",
    "model.summary()"
   ]
  },
  {
   "cell_type": "code",
   "execution_count": 43,
   "id": "bdc159d8-fd4b-4345-8faf-70930706a1eb",
   "metadata": {
    "colab": {
     "base_uri": "https://localhost:8080/"
    },
    "executionInfo": {
     "elapsed": 8,
     "status": "ok",
     "timestamp": 1687610362163,
     "user": {
      "displayName": "Arindam Dey",
      "userId": "10651625546197419632"
     },
     "user_tz": -330
    },
    "id": "bdc159d8-fd4b-4345-8faf-70930706a1eb",
    "outputId": "3516eff6-c2a8-4cdc-f6ef-9b929ef54a6f",
    "tags": []
   },
   "outputs": [
    {
     "name": "stdout",
     "output_type": "stream",
     "text": [
      "Model: \"ae_model\"\n",
      "_________________________________________________________________\n",
      " Layer (type)                Output Shape              Param #   \n",
      "=================================================================\n",
      " encoder_input (InputLayer)  [(None, 28, 28, 1)]       0         \n",
      "                                                                 \n",
      " Encoder (Functional)        (None, 32)                193952    \n",
      "                                                                 \n",
      " Decoder (Functional)        (None, 28, 28, 1)         196737    \n",
      "                                                                 \n",
      "=================================================================\n",
      "Total params: 390,689\n",
      "Trainable params: 389,921\n",
      "Non-trainable params: 768\n",
      "_________________________________________________________________\n"
     ]
    }
   ],
   "source": []
  },
  {
   "cell_type": "code",
   "execution_count": 44,
   "id": "e8b6fc93-6c95-4efc-b118-95f0fe4aef2e",
   "metadata": {
    "colab": {
     "base_uri": "https://localhost:8080/"
    },
    "executionInfo": {
     "elapsed": 1407686,
     "status": "ok",
     "timestamp": 1687611769847,
     "user": {
      "displayName": "Arindam Dey",
      "userId": "10651625546197419632"
     },
     "user_tz": -330
    },
    "id": "e8b6fc93-6c95-4efc-b118-95f0fe4aef2e",
    "outputId": "0d1a05a5-cf39-44ee-9440-4e543ee42138",
    "tags": []
   },
   "outputs": [
    {
     "name": "stdout",
     "output_type": "stream",
     "text": [
      "Epoch 1/100\n",
      "1875/1875 [==============================] - 24s 9ms/step - loss: 0.0127 - val_loss: 0.0072\n",
      "Epoch 2/100\n",
      "1875/1875 [==============================] - 16s 9ms/step - loss: 0.0047 - val_loss: 0.0042\n",
      "Epoch 3/100\n",
      "1875/1875 [==============================] - 16s 8ms/step - loss: 0.0041 - val_loss: 0.0043\n",
      "Epoch 4/100\n",
      "1875/1875 [==============================] - 16s 8ms/step - loss: 0.0037 - val_loss: 0.0040\n",
      "Epoch 5/100\n",
      "1875/1875 [==============================] - 16s 8ms/step - loss: 0.0034 - val_loss: 0.0033\n",
      "Epoch 6/100\n",
      "1875/1875 [==============================] - 16s 8ms/step - loss: 0.0032 - val_loss: 0.0031\n",
      "Epoch 7/100\n",
      "1875/1875 [==============================] - 15s 8ms/step - loss: 0.0031 - val_loss: 0.0030\n",
      "Epoch 8/100\n",
      "1875/1875 [==============================] - 16s 8ms/step - loss: 0.0030 - val_loss: 0.0030\n",
      "Epoch 9/100\n",
      "1875/1875 [==============================] - 16s 9ms/step - loss: 0.0029 - val_loss: 0.0029\n",
      "Epoch 10/100\n",
      "1875/1875 [==============================] - 17s 9ms/step - loss: 0.0028 - val_loss: 0.0028\n",
      "Epoch 11/100\n",
      "1875/1875 [==============================] - 16s 9ms/step - loss: 0.0028 - val_loss: 0.0029\n",
      "Epoch 12/100\n",
      "1875/1875 [==============================] - 18s 9ms/step - loss: 0.0027 - val_loss: 0.0028\n",
      "Epoch 13/100\n",
      "1875/1875 [==============================] - 16s 9ms/step - loss: 0.0027 - val_loss: 0.0028\n",
      "Epoch 14/100\n",
      "1875/1875 [==============================] - 15s 8ms/step - loss: 0.0027 - val_loss: 0.0027\n",
      "Epoch 15/100\n",
      "1875/1875 [==============================] - 16s 8ms/step - loss: 0.0026 - val_loss: 0.0028\n",
      "Epoch 16/100\n",
      "1875/1875 [==============================] - 18s 10ms/step - loss: 0.0026 - val_loss: 0.0027\n",
      "Epoch 17/100\n",
      "1875/1875 [==============================] - 16s 8ms/step - loss: 0.0025 - val_loss: 0.0026\n",
      "Epoch 18/100\n",
      "1875/1875 [==============================] - 16s 9ms/step - loss: 0.0025 - val_loss: 0.0026\n",
      "Epoch 19/100\n",
      "1875/1875 [==============================] - 16s 9ms/step - loss: 0.0025 - val_loss: 0.0026\n",
      "Epoch 20/100\n",
      "1875/1875 [==============================] - 16s 9ms/step - loss: 0.0025 - val_loss: 0.0026\n",
      "Epoch 21/100\n",
      "1875/1875 [==============================] - 18s 10ms/step - loss: 0.0025 - val_loss: 0.0026\n",
      "Epoch 22/100\n",
      "1875/1875 [==============================] - 17s 9ms/step - loss: 0.0024 - val_loss: 0.0026\n",
      "Epoch 23/100\n",
      "1875/1875 [==============================] - 16s 8ms/step - loss: 0.0024 - val_loss: 0.0026\n",
      "Epoch 24/100\n",
      "1875/1875 [==============================] - 16s 9ms/step - loss: 0.0024 - val_loss: 0.0026\n",
      "Epoch 25/100\n",
      "1875/1875 [==============================] - 16s 9ms/step - loss: 0.0024 - val_loss: 0.0025\n",
      "Epoch 26/100\n",
      "1875/1875 [==============================] - 16s 9ms/step - loss: 0.0024 - val_loss: 0.0025\n",
      "Epoch 27/100\n",
      "1875/1875 [==============================] - 16s 9ms/step - loss: 0.0024 - val_loss: 0.0026\n",
      "Epoch 28/100\n",
      "1875/1875 [==============================] - 16s 8ms/step - loss: 0.0024 - val_loss: 0.0025\n",
      "Epoch 29/100\n",
      "1875/1875 [==============================] - 15s 8ms/step - loss: 0.0023 - val_loss: 0.0025\n",
      "Epoch 30/100\n",
      "1875/1875 [==============================] - 16s 8ms/step - loss: 0.0023 - val_loss: 0.0025\n",
      "Epoch 31/100\n",
      "1875/1875 [==============================] - 17s 9ms/step - loss: 0.0023 - val_loss: 0.0025\n",
      "Epoch 32/100\n",
      "1875/1875 [==============================] - 16s 9ms/step - loss: 0.0023 - val_loss: 0.0026\n",
      "Epoch 33/100\n",
      "1875/1875 [==============================] - 16s 8ms/step - loss: 0.0023 - val_loss: 0.0025\n",
      "Epoch 34/100\n",
      "1875/1875 [==============================] - 17s 9ms/step - loss: 0.0023 - val_loss: 0.0025\n",
      "Epoch 35/100\n",
      "1875/1875 [==============================] - 18s 9ms/step - loss: 0.0023 - val_loss: 0.0025\n",
      "Epoch 36/100\n",
      "1875/1875 [==============================] - 16s 9ms/step - loss: 0.0023 - val_loss: 0.0024\n",
      "Epoch 37/100\n",
      "1875/1875 [==============================] - 16s 9ms/step - loss: 0.0023 - val_loss: 0.0025\n",
      "Epoch 38/100\n",
      "1875/1875 [==============================] - 16s 9ms/step - loss: 0.0023 - val_loss: 0.0025\n",
      "Epoch 39/100\n",
      "1875/1875 [==============================] - 16s 8ms/step - loss: 0.0022 - val_loss: 0.0024\n",
      "Epoch 40/100\n",
      "1875/1875 [==============================] - 16s 9ms/step - loss: 0.0022 - val_loss: 0.0025\n",
      "Epoch 41/100\n",
      "1875/1875 [==============================] - 16s 9ms/step - loss: 0.0022 - val_loss: 0.0024\n",
      "Epoch 42/100\n",
      "1875/1875 [==============================] - 16s 9ms/step - loss: 0.0022 - val_loss: 0.0024\n",
      "Epoch 43/100\n",
      "1875/1875 [==============================] - 16s 9ms/step - loss: 0.0022 - val_loss: 0.0024\n",
      "Epoch 44/100\n",
      "1875/1875 [==============================] - 16s 9ms/step - loss: 0.0022 - val_loss: 0.0024\n",
      "Epoch 45/100\n",
      "1875/1875 [==============================] - 16s 9ms/step - loss: 0.0022 - val_loss: 0.0025\n",
      "Epoch 46/100\n",
      "1875/1875 [==============================] - 17s 9ms/step - loss: 0.0022 - val_loss: 0.0024\n",
      "Epoch 47/100\n",
      "1875/1875 [==============================] - 17s 9ms/step - loss: 0.0022 - val_loss: 0.0024\n",
      "Epoch 48/100\n",
      "1875/1875 [==============================] - 16s 9ms/step - loss: 0.0022 - val_loss: 0.0024\n",
      "Epoch 49/100\n",
      "1875/1875 [==============================] - 16s 9ms/step - loss: 0.0022 - val_loss: 0.0024\n",
      "Epoch 50/100\n",
      "1875/1875 [==============================] - 17s 9ms/step - loss: 0.0022 - val_loss: 0.0025\n",
      "Epoch 51/100\n",
      "1875/1875 [==============================] - 26s 14ms/step - loss: 0.0022 - val_loss: 0.0024\n",
      "Epoch 52/100\n",
      "1875/1875 [==============================] - 16s 9ms/step - loss: 0.0022 - val_loss: 0.0024\n",
      "Epoch 53/100\n",
      "1875/1875 [==============================] - 16s 8ms/step - loss: 0.0022 - val_loss: 0.0024\n",
      "Epoch 54/100\n",
      "1875/1875 [==============================] - 20s 11ms/step - loss: 0.0022 - val_loss: 0.0024\n",
      "Epoch 55/100\n",
      "1875/1875 [==============================] - 17s 9ms/step - loss: 0.0022 - val_loss: 0.0024\n",
      "Epoch 56/100\n",
      "1875/1875 [==============================] - 16s 8ms/step - loss: 0.0021 - val_loss: 0.0024\n",
      "Epoch 57/100\n",
      " 476/1875 [======>.......................] - ETA: 12s - loss: 0.0021"
     ]
    },
    {
     "ename": "KeyboardInterrupt",
     "evalue": "",
     "output_type": "error",
     "traceback": [
      "\u001b[1;31m---------------------------------------------------------------------------\u001b[0m",
      "\u001b[1;31mKeyboardInterrupt\u001b[0m                         Traceback (most recent call last)",
      "Cell \u001b[1;32mIn[44], line 3\u001b[0m\n\u001b[0;32m      1\u001b[0m early_stopper \u001b[38;5;241m=\u001b[39m EarlyStopping(monitor\u001b[38;5;241m=\u001b[39m\u001b[38;5;124m'\u001b[39m\u001b[38;5;124mval_loss\u001b[39m\u001b[38;5;124m'\u001b[39m, min_delta\u001b[38;5;241m=\u001b[39m\u001b[38;5;241m0.001\u001b[39m, patience\u001b[38;5;241m=\u001b[39m\u001b[38;5;241m10\u001b[39m)\n\u001b[0;32m      2\u001b[0m callbacks_list\u001b[38;5;241m=\u001b[39m[early_stopper]\n\u001b[1;32m----> 3\u001b[0m \u001b[43mae\u001b[49m\u001b[38;5;241;43m.\u001b[39;49m\u001b[43mfit\u001b[49m\u001b[43m(\u001b[49m\u001b[43mtrainX\u001b[49m\u001b[43m,\u001b[49m\u001b[43mtestX\u001b[49m\u001b[43m)\u001b[49m\n",
      "Cell \u001b[1;32mIn[40], line 89\u001b[0m, in \u001b[0;36mAutoEncoder.fit\u001b[1;34m(self, Xtr, Xval, **kwargs)\u001b[0m\n\u001b[0;32m     85\u001b[0m \u001b[38;5;28mself\u001b[39m\u001b[38;5;241m.\u001b[39mshuffle \u001b[38;5;241m=\u001b[39m kwargs\u001b[38;5;241m.\u001b[39mget(\u001b[38;5;124m\"\u001b[39m\u001b[38;5;124mshuffle\u001b[39m\u001b[38;5;124m\"\u001b[39m, \u001b[38;5;28;01mTrue\u001b[39;00m)\n\u001b[0;32m     87\u001b[0m model, decoder, encoder \u001b[38;5;241m=\u001b[39m \u001b[38;5;28mself\u001b[39m\u001b[38;5;241m.\u001b[39mget_model()\n\u001b[1;32m---> 89\u001b[0m \u001b[43mmodel\u001b[49m\u001b[38;5;241;43m.\u001b[39;49m\u001b[43mfit\u001b[49m\u001b[43m(\u001b[49m\u001b[43mXtr\u001b[49m\u001b[43m,\u001b[49m\u001b[43m \u001b[49m\u001b[43mXtr\u001b[49m\u001b[43m,\u001b[49m\n\u001b[0;32m     90\u001b[0m \u001b[43m               \u001b[49m\u001b[43mbatch_size\u001b[49m\u001b[38;5;241;43m=\u001b[39;49m\u001b[38;5;28;43mself\u001b[39;49m\u001b[38;5;241;43m.\u001b[39;49m\u001b[43mbatch_size\u001b[49m\u001b[43m,\u001b[49m\n\u001b[0;32m     91\u001b[0m \u001b[43m               \u001b[49m\u001b[43mvalidation_data\u001b[49m\u001b[38;5;241;43m=\u001b[39;49m\u001b[43m(\u001b[49m\u001b[43mXval\u001b[49m\u001b[43m,\u001b[49m\u001b[43mXval\u001b[49m\u001b[43m)\u001b[49m\u001b[43m,\u001b[49m\n\u001b[0;32m     92\u001b[0m \u001b[43m               \u001b[49m\u001b[43mshuffle\u001b[49m\u001b[38;5;241;43m=\u001b[39;49m\u001b[38;5;28;43mself\u001b[39;49m\u001b[38;5;241;43m.\u001b[39;49m\u001b[43mshuffle\u001b[49m\u001b[43m,\u001b[49m\n\u001b[0;32m     93\u001b[0m \u001b[43m               \u001b[49m\u001b[43mepochs\u001b[49m\u001b[38;5;241;43m=\u001b[39;49m\u001b[38;5;28;43mself\u001b[39;49m\u001b[38;5;241;43m.\u001b[39;49m\u001b[43mepochs\u001b[49m\u001b[43m,\u001b[49m\n\u001b[0;32m     94\u001b[0m \u001b[43m               \u001b[49m\u001b[43mcallbacks\u001b[49m\u001b[38;5;241;43m=\u001b[39;49m\u001b[38;5;28;43mself\u001b[39;49m\u001b[38;5;241;43m.\u001b[39;49m\u001b[43mcallbacks_list\u001b[49m\u001b[43m)\u001b[49m\n\u001b[0;32m     96\u001b[0m \u001b[38;5;28mself\u001b[39m\u001b[38;5;241m.\u001b[39mmodel \u001b[38;5;241m=\u001b[39m model\n\u001b[0;32m     97\u001b[0m \u001b[38;5;28mself\u001b[39m\u001b[38;5;241m.\u001b[39mdecoder \u001b[38;5;241m=\u001b[39m decoder\n",
      "File \u001b[1;32m~\\anaconda3\\envs\\tf\\lib\\site-packages\\keras\\utils\\traceback_utils.py:65\u001b[0m, in \u001b[0;36mfilter_traceback.<locals>.error_handler\u001b[1;34m(*args, **kwargs)\u001b[0m\n\u001b[0;32m     63\u001b[0m filtered_tb \u001b[38;5;241m=\u001b[39m \u001b[38;5;28;01mNone\u001b[39;00m\n\u001b[0;32m     64\u001b[0m \u001b[38;5;28;01mtry\u001b[39;00m:\n\u001b[1;32m---> 65\u001b[0m     \u001b[38;5;28;01mreturn\u001b[39;00m fn(\u001b[38;5;241m*\u001b[39margs, \u001b[38;5;241m*\u001b[39m\u001b[38;5;241m*\u001b[39mkwargs)\n\u001b[0;32m     66\u001b[0m \u001b[38;5;28;01mexcept\u001b[39;00m \u001b[38;5;167;01mException\u001b[39;00m \u001b[38;5;28;01mas\u001b[39;00m e:\n\u001b[0;32m     67\u001b[0m     filtered_tb \u001b[38;5;241m=\u001b[39m _process_traceback_frames(e\u001b[38;5;241m.\u001b[39m__traceback__)\n",
      "File \u001b[1;32m~\\anaconda3\\envs\\tf\\lib\\site-packages\\keras\\engine\\training.py:1564\u001b[0m, in \u001b[0;36mModel.fit\u001b[1;34m(self, x, y, batch_size, epochs, verbose, callbacks, validation_split, validation_data, shuffle, class_weight, sample_weight, initial_epoch, steps_per_epoch, validation_steps, validation_batch_size, validation_freq, max_queue_size, workers, use_multiprocessing)\u001b[0m\n\u001b[0;32m   1556\u001b[0m \u001b[38;5;28;01mwith\u001b[39;00m tf\u001b[38;5;241m.\u001b[39mprofiler\u001b[38;5;241m.\u001b[39mexperimental\u001b[38;5;241m.\u001b[39mTrace(\n\u001b[0;32m   1557\u001b[0m     \u001b[38;5;124m\"\u001b[39m\u001b[38;5;124mtrain\u001b[39m\u001b[38;5;124m\"\u001b[39m,\n\u001b[0;32m   1558\u001b[0m     epoch_num\u001b[38;5;241m=\u001b[39mepoch,\n\u001b[1;32m   (...)\u001b[0m\n\u001b[0;32m   1561\u001b[0m     _r\u001b[38;5;241m=\u001b[39m\u001b[38;5;241m1\u001b[39m,\n\u001b[0;32m   1562\u001b[0m ):\n\u001b[0;32m   1563\u001b[0m     callbacks\u001b[38;5;241m.\u001b[39mon_train_batch_begin(step)\n\u001b[1;32m-> 1564\u001b[0m     tmp_logs \u001b[38;5;241m=\u001b[39m \u001b[38;5;28;43mself\u001b[39;49m\u001b[38;5;241;43m.\u001b[39;49m\u001b[43mtrain_function\u001b[49m\u001b[43m(\u001b[49m\u001b[43miterator\u001b[49m\u001b[43m)\u001b[49m\n\u001b[0;32m   1565\u001b[0m     \u001b[38;5;28;01mif\u001b[39;00m data_handler\u001b[38;5;241m.\u001b[39mshould_sync:\n\u001b[0;32m   1566\u001b[0m         context\u001b[38;5;241m.\u001b[39masync_wait()\n",
      "File \u001b[1;32m~\\anaconda3\\envs\\tf\\lib\\site-packages\\tensorflow\\python\\util\\traceback_utils.py:150\u001b[0m, in \u001b[0;36mfilter_traceback.<locals>.error_handler\u001b[1;34m(*args, **kwargs)\u001b[0m\n\u001b[0;32m    148\u001b[0m filtered_tb \u001b[38;5;241m=\u001b[39m \u001b[38;5;28;01mNone\u001b[39;00m\n\u001b[0;32m    149\u001b[0m \u001b[38;5;28;01mtry\u001b[39;00m:\n\u001b[1;32m--> 150\u001b[0m   \u001b[38;5;28;01mreturn\u001b[39;00m fn(\u001b[38;5;241m*\u001b[39margs, \u001b[38;5;241m*\u001b[39m\u001b[38;5;241m*\u001b[39mkwargs)\n\u001b[0;32m    151\u001b[0m \u001b[38;5;28;01mexcept\u001b[39;00m \u001b[38;5;167;01mException\u001b[39;00m \u001b[38;5;28;01mas\u001b[39;00m e:\n\u001b[0;32m    152\u001b[0m   filtered_tb \u001b[38;5;241m=\u001b[39m _process_traceback_frames(e\u001b[38;5;241m.\u001b[39m__traceback__)\n",
      "File \u001b[1;32m~\\anaconda3\\envs\\tf\\lib\\site-packages\\tensorflow\\python\\eager\\def_function.py:915\u001b[0m, in \u001b[0;36mFunction.__call__\u001b[1;34m(self, *args, **kwds)\u001b[0m\n\u001b[0;32m    912\u001b[0m compiler \u001b[38;5;241m=\u001b[39m \u001b[38;5;124m\"\u001b[39m\u001b[38;5;124mxla\u001b[39m\u001b[38;5;124m\"\u001b[39m \u001b[38;5;28;01mif\u001b[39;00m \u001b[38;5;28mself\u001b[39m\u001b[38;5;241m.\u001b[39m_jit_compile \u001b[38;5;28;01melse\u001b[39;00m \u001b[38;5;124m\"\u001b[39m\u001b[38;5;124mnonXla\u001b[39m\u001b[38;5;124m\"\u001b[39m\n\u001b[0;32m    914\u001b[0m \u001b[38;5;28;01mwith\u001b[39;00m OptionalXlaContext(\u001b[38;5;28mself\u001b[39m\u001b[38;5;241m.\u001b[39m_jit_compile):\n\u001b[1;32m--> 915\u001b[0m   result \u001b[38;5;241m=\u001b[39m \u001b[38;5;28mself\u001b[39m\u001b[38;5;241m.\u001b[39m_call(\u001b[38;5;241m*\u001b[39margs, \u001b[38;5;241m*\u001b[39m\u001b[38;5;241m*\u001b[39mkwds)\n\u001b[0;32m    917\u001b[0m new_tracing_count \u001b[38;5;241m=\u001b[39m \u001b[38;5;28mself\u001b[39m\u001b[38;5;241m.\u001b[39mexperimental_get_tracing_count()\n\u001b[0;32m    918\u001b[0m without_tracing \u001b[38;5;241m=\u001b[39m (tracing_count \u001b[38;5;241m==\u001b[39m new_tracing_count)\n",
      "File \u001b[1;32m~\\anaconda3\\envs\\tf\\lib\\site-packages\\tensorflow\\python\\eager\\def_function.py:947\u001b[0m, in \u001b[0;36mFunction._call\u001b[1;34m(self, *args, **kwds)\u001b[0m\n\u001b[0;32m    944\u001b[0m   \u001b[38;5;28mself\u001b[39m\u001b[38;5;241m.\u001b[39m_lock\u001b[38;5;241m.\u001b[39mrelease()\n\u001b[0;32m    945\u001b[0m   \u001b[38;5;66;03m# In this case we have created variables on the first call, so we run the\u001b[39;00m\n\u001b[0;32m    946\u001b[0m   \u001b[38;5;66;03m# defunned version which is guaranteed to never create variables.\u001b[39;00m\n\u001b[1;32m--> 947\u001b[0m   \u001b[38;5;28;01mreturn\u001b[39;00m \u001b[38;5;28mself\u001b[39m\u001b[38;5;241m.\u001b[39m_stateless_fn(\u001b[38;5;241m*\u001b[39margs, \u001b[38;5;241m*\u001b[39m\u001b[38;5;241m*\u001b[39mkwds)  \u001b[38;5;66;03m# pylint: disable=not-callable\u001b[39;00m\n\u001b[0;32m    948\u001b[0m \u001b[38;5;28;01melif\u001b[39;00m \u001b[38;5;28mself\u001b[39m\u001b[38;5;241m.\u001b[39m_stateful_fn \u001b[38;5;129;01mis\u001b[39;00m \u001b[38;5;129;01mnot\u001b[39;00m \u001b[38;5;28;01mNone\u001b[39;00m:\n\u001b[0;32m    949\u001b[0m   \u001b[38;5;66;03m# Release the lock early so that multiple threads can perform the call\u001b[39;00m\n\u001b[0;32m    950\u001b[0m   \u001b[38;5;66;03m# in parallel.\u001b[39;00m\n\u001b[0;32m    951\u001b[0m   \u001b[38;5;28mself\u001b[39m\u001b[38;5;241m.\u001b[39m_lock\u001b[38;5;241m.\u001b[39mrelease()\n",
      "File \u001b[1;32m~\\anaconda3\\envs\\tf\\lib\\site-packages\\tensorflow\\python\\eager\\function.py:2496\u001b[0m, in \u001b[0;36mFunction.__call__\u001b[1;34m(self, *args, **kwargs)\u001b[0m\n\u001b[0;32m   2493\u001b[0m \u001b[38;5;28;01mwith\u001b[39;00m \u001b[38;5;28mself\u001b[39m\u001b[38;5;241m.\u001b[39m_lock:\n\u001b[0;32m   2494\u001b[0m   (graph_function,\n\u001b[0;32m   2495\u001b[0m    filtered_flat_args) \u001b[38;5;241m=\u001b[39m \u001b[38;5;28mself\u001b[39m\u001b[38;5;241m.\u001b[39m_maybe_define_function(args, kwargs)\n\u001b[1;32m-> 2496\u001b[0m \u001b[38;5;28;01mreturn\u001b[39;00m \u001b[43mgraph_function\u001b[49m\u001b[38;5;241;43m.\u001b[39;49m\u001b[43m_call_flat\u001b[49m\u001b[43m(\u001b[49m\n\u001b[0;32m   2497\u001b[0m \u001b[43m    \u001b[49m\u001b[43mfiltered_flat_args\u001b[49m\u001b[43m,\u001b[49m\u001b[43m \u001b[49m\u001b[43mcaptured_inputs\u001b[49m\u001b[38;5;241;43m=\u001b[39;49m\u001b[43mgraph_function\u001b[49m\u001b[38;5;241;43m.\u001b[39;49m\u001b[43mcaptured_inputs\u001b[49m\u001b[43m)\u001b[49m\n",
      "File \u001b[1;32m~\\anaconda3\\envs\\tf\\lib\\site-packages\\tensorflow\\python\\eager\\function.py:1862\u001b[0m, in \u001b[0;36mConcreteFunction._call_flat\u001b[1;34m(self, args, captured_inputs, cancellation_manager)\u001b[0m\n\u001b[0;32m   1858\u001b[0m possible_gradient_type \u001b[38;5;241m=\u001b[39m gradients_util\u001b[38;5;241m.\u001b[39mPossibleTapeGradientTypes(args)\n\u001b[0;32m   1859\u001b[0m \u001b[38;5;28;01mif\u001b[39;00m (possible_gradient_type \u001b[38;5;241m==\u001b[39m gradients_util\u001b[38;5;241m.\u001b[39mPOSSIBLE_GRADIENT_TYPES_NONE\n\u001b[0;32m   1860\u001b[0m     \u001b[38;5;129;01mand\u001b[39;00m executing_eagerly):\n\u001b[0;32m   1861\u001b[0m   \u001b[38;5;66;03m# No tape is watching; skip to running the function.\u001b[39;00m\n\u001b[1;32m-> 1862\u001b[0m   \u001b[38;5;28;01mreturn\u001b[39;00m \u001b[38;5;28mself\u001b[39m\u001b[38;5;241m.\u001b[39m_build_call_outputs(\u001b[38;5;28;43mself\u001b[39;49m\u001b[38;5;241;43m.\u001b[39;49m\u001b[43m_inference_function\u001b[49m\u001b[38;5;241;43m.\u001b[39;49m\u001b[43mcall\u001b[49m\u001b[43m(\u001b[49m\n\u001b[0;32m   1863\u001b[0m \u001b[43m      \u001b[49m\u001b[43mctx\u001b[49m\u001b[43m,\u001b[49m\u001b[43m \u001b[49m\u001b[43margs\u001b[49m\u001b[43m,\u001b[49m\u001b[43m \u001b[49m\u001b[43mcancellation_manager\u001b[49m\u001b[38;5;241;43m=\u001b[39;49m\u001b[43mcancellation_manager\u001b[49m\u001b[43m)\u001b[49m)\n\u001b[0;32m   1864\u001b[0m forward_backward \u001b[38;5;241m=\u001b[39m \u001b[38;5;28mself\u001b[39m\u001b[38;5;241m.\u001b[39m_select_forward_and_backward_functions(\n\u001b[0;32m   1865\u001b[0m     args,\n\u001b[0;32m   1866\u001b[0m     possible_gradient_type,\n\u001b[0;32m   1867\u001b[0m     executing_eagerly)\n\u001b[0;32m   1868\u001b[0m forward_function, args_with_tangents \u001b[38;5;241m=\u001b[39m forward_backward\u001b[38;5;241m.\u001b[39mforward()\n",
      "File \u001b[1;32m~\\anaconda3\\envs\\tf\\lib\\site-packages\\tensorflow\\python\\eager\\function.py:499\u001b[0m, in \u001b[0;36m_EagerDefinedFunction.call\u001b[1;34m(self, ctx, args, cancellation_manager)\u001b[0m\n\u001b[0;32m    497\u001b[0m \u001b[38;5;28;01mwith\u001b[39;00m _InterpolateFunctionError(\u001b[38;5;28mself\u001b[39m):\n\u001b[0;32m    498\u001b[0m   \u001b[38;5;28;01mif\u001b[39;00m cancellation_manager \u001b[38;5;129;01mis\u001b[39;00m \u001b[38;5;28;01mNone\u001b[39;00m:\n\u001b[1;32m--> 499\u001b[0m     outputs \u001b[38;5;241m=\u001b[39m \u001b[43mexecute\u001b[49m\u001b[38;5;241;43m.\u001b[39;49m\u001b[43mexecute\u001b[49m\u001b[43m(\u001b[49m\n\u001b[0;32m    500\u001b[0m \u001b[43m        \u001b[49m\u001b[38;5;28;43mstr\u001b[39;49m\u001b[43m(\u001b[49m\u001b[38;5;28;43mself\u001b[39;49m\u001b[38;5;241;43m.\u001b[39;49m\u001b[43msignature\u001b[49m\u001b[38;5;241;43m.\u001b[39;49m\u001b[43mname\u001b[49m\u001b[43m)\u001b[49m\u001b[43m,\u001b[49m\n\u001b[0;32m    501\u001b[0m \u001b[43m        \u001b[49m\u001b[43mnum_outputs\u001b[49m\u001b[38;5;241;43m=\u001b[39;49m\u001b[38;5;28;43mself\u001b[39;49m\u001b[38;5;241;43m.\u001b[39;49m\u001b[43m_num_outputs\u001b[49m\u001b[43m,\u001b[49m\n\u001b[0;32m    502\u001b[0m \u001b[43m        \u001b[49m\u001b[43minputs\u001b[49m\u001b[38;5;241;43m=\u001b[39;49m\u001b[43margs\u001b[49m\u001b[43m,\u001b[49m\n\u001b[0;32m    503\u001b[0m \u001b[43m        \u001b[49m\u001b[43mattrs\u001b[49m\u001b[38;5;241;43m=\u001b[39;49m\u001b[43mattrs\u001b[49m\u001b[43m,\u001b[49m\n\u001b[0;32m    504\u001b[0m \u001b[43m        \u001b[49m\u001b[43mctx\u001b[49m\u001b[38;5;241;43m=\u001b[39;49m\u001b[43mctx\u001b[49m\u001b[43m)\u001b[49m\n\u001b[0;32m    505\u001b[0m   \u001b[38;5;28;01melse\u001b[39;00m:\n\u001b[0;32m    506\u001b[0m     outputs \u001b[38;5;241m=\u001b[39m execute\u001b[38;5;241m.\u001b[39mexecute_with_cancellation(\n\u001b[0;32m    507\u001b[0m         \u001b[38;5;28mstr\u001b[39m(\u001b[38;5;28mself\u001b[39m\u001b[38;5;241m.\u001b[39msignature\u001b[38;5;241m.\u001b[39mname),\n\u001b[0;32m    508\u001b[0m         num_outputs\u001b[38;5;241m=\u001b[39m\u001b[38;5;28mself\u001b[39m\u001b[38;5;241m.\u001b[39m_num_outputs,\n\u001b[1;32m   (...)\u001b[0m\n\u001b[0;32m    511\u001b[0m         ctx\u001b[38;5;241m=\u001b[39mctx,\n\u001b[0;32m    512\u001b[0m         cancellation_manager\u001b[38;5;241m=\u001b[39mcancellation_manager)\n",
      "File \u001b[1;32m~\\anaconda3\\envs\\tf\\lib\\site-packages\\tensorflow\\python\\eager\\execute.py:54\u001b[0m, in \u001b[0;36mquick_execute\u001b[1;34m(op_name, num_outputs, inputs, attrs, ctx, name)\u001b[0m\n\u001b[0;32m     52\u001b[0m \u001b[38;5;28;01mtry\u001b[39;00m:\n\u001b[0;32m     53\u001b[0m   ctx\u001b[38;5;241m.\u001b[39mensure_initialized()\n\u001b[1;32m---> 54\u001b[0m   tensors \u001b[38;5;241m=\u001b[39m \u001b[43mpywrap_tfe\u001b[49m\u001b[38;5;241;43m.\u001b[39;49m\u001b[43mTFE_Py_Execute\u001b[49m\u001b[43m(\u001b[49m\u001b[43mctx\u001b[49m\u001b[38;5;241;43m.\u001b[39;49m\u001b[43m_handle\u001b[49m\u001b[43m,\u001b[49m\u001b[43m \u001b[49m\u001b[43mdevice_name\u001b[49m\u001b[43m,\u001b[49m\u001b[43m \u001b[49m\u001b[43mop_name\u001b[49m\u001b[43m,\u001b[49m\n\u001b[0;32m     55\u001b[0m \u001b[43m                                      \u001b[49m\u001b[43minputs\u001b[49m\u001b[43m,\u001b[49m\u001b[43m \u001b[49m\u001b[43mattrs\u001b[49m\u001b[43m,\u001b[49m\u001b[43m \u001b[49m\u001b[43mnum_outputs\u001b[49m\u001b[43m)\u001b[49m\n\u001b[0;32m     56\u001b[0m \u001b[38;5;28;01mexcept\u001b[39;00m core\u001b[38;5;241m.\u001b[39m_NotOkStatusException \u001b[38;5;28;01mas\u001b[39;00m e:\n\u001b[0;32m     57\u001b[0m   \u001b[38;5;28;01mif\u001b[39;00m name \u001b[38;5;129;01mis\u001b[39;00m \u001b[38;5;129;01mnot\u001b[39;00m \u001b[38;5;28;01mNone\u001b[39;00m:\n",
      "\u001b[1;31mKeyboardInterrupt\u001b[0m: "
     ]
    }
   ],
   "source": [
    "early_stopper = EarlyStopping(monitor='val_loss', min_delta=0.001, patience=10)\n",
    "callbacks_list=[early_stopper]\n",
    "ae.fit(trainX,testX)"
   ]
  },
  {
   "cell_type": "code",
   "execution_count": 47,
   "id": "1d974e2f-a47c-4b7c-8237-71b125f16820",
   "metadata": {
    "colab": {
     "base_uri": "https://localhost:8080/",
     "height": 338
    },
    "executionInfo": {
     "elapsed": 2340,
     "status": "ok",
     "timestamp": 1687611772174,
     "user": {
      "displayName": "Arindam Dey",
      "userId": "10651625546197419632"
     },
     "user_tz": -330
    },
    "id": "1d974e2f-a47c-4b7c-8237-71b125f16820",
    "outputId": "5b49c9a3-7613-48bd-a8da-6a9df79040bc",
    "tags": []
   },
   "outputs": [
    {
     "name": "stdout",
     "output_type": "stream",
     "text": [
      "1/1 [==============================] - 2s 2s/step\n"
     ]
    },
    {
     "data": {
      "image/png": "[encoded data removed]",
      "text/plain": [
       "<Figure size 1600x180 with 10 Axes>"
      ]
     },
     "metadata": {},
     "output_type": "display_data"
    },
    {
     "data": {
      "image/png": "[encoded data removed]",
      "text/plain": [
       "<Figure size 1600x180 with 10 Axes>"
      ]
     },
     "metadata": {},
     "output_type": "display_data"
    }
   ],
   "source": [
    "samples = np.random.randint(0,testX.shape[0],10)\n",
    "fig,axn=plt.subplots(1,10,sharex='col',sharey='row',figsize=(16,1.8))\n",
    "for n,i in enumerate(samples):\n",
    "    axn[n].imshow(testX[i])\n",
    "\n",
    "\n",
    "testX_recons = dec.model.predict(testX[samples])[1]\n",
    "fig,axn=plt.subplots(1,10,sharex='col',sharey='row',figsize=(16,1.8))\n",
    "for n,i in enumerate(testX_recons):\n",
    "    axn[n].imshow(i)"
   ]
  },
  {
   "cell_type": "code",
   "execution_count": 48,
   "id": "5a05e939-cd67-4c53-928e-af581bb83516",
   "metadata": {
    "colab": {
     "base_uri": "https://localhost:8080/",
     "height": 0
    },
    "executionInfo": {
     "elapsed": 1533,
     "status": "ok",
     "timestamp": 1687611773705,
     "user": {
      "displayName": "Arindam Dey",
      "userId": "10651625546197419632"
     },
     "user_tz": -330
    },
    "id": "5a05e939-cd67-4c53-928e-af581bb83516",
    "outputId": "0c120a2d-a215-432c-87d7-222724bfa27f"
   },
   "outputs": [
    {
     "name": "stdout",
     "output_type": "stream",
     "text": [
      "1/1 [==============================] - 2s 2s/step\n",
      "1/1 [==============================] - 2s 2s/step\n"
     ]
    },
    {
     "data": {
      "image/png": "[encoded data removed]",
      "text/plain": [
       "<Figure size 1600x180 with 10 Axes>"
      ]
     },
     "metadata": {},
     "output_type": "display_data"
    }
   ],
   "source": [
    "samples = np.random.randint(0,testX.shape[0],10)\n",
    "random_samples = testX[samples]\n",
    "\n",
    "latent_samples = dec.encoder.predict(testX[samples])\n",
    "recons_samples = dec.decoder.predict(latent_samples)\n",
    "\n",
    "fig,axn=plt.subplots(1,10,sharex='col',sharey='row',figsize=(16,1.8))\n",
    "for n,i in enumerate(recons_samples):\n",
    "    axn[n].imshow(recons_samples[n,::,::,0])"
   ]
  },
  {
   "cell_type": "code",
   "execution_count": 49,
   "id": "EGSD5p67GMnZ",
   "metadata": {
    "colab": {
     "base_uri": "https://localhost:8080/"
    },
    "executionInfo": {
     "elapsed": 1318,
     "status": "ok",
     "timestamp": 1687611775018,
     "user": {
      "displayName": "Arindam Dey",
      "userId": "10651625546197419632"
     },
     "user_tz": -330
    },
    "id": "EGSD5p67GMnZ",
    "outputId": "f6196ca2-4277-450c-b006-5f6265d915f0"
   },
   "outputs": [
    {
     "name": "stdout",
     "output_type": "stream",
     "text": [
      "313/313 [==============================] - 4s 4ms/step\n"
     ]
    }
   ],
   "source": [
    "model_out = dec.model.predict(testX)[0]\n",
    "y_preds = np.argmax(model_out,axis = 1)"
   ]
  },
  {
   "cell_type": "code",
   "execution_count": 52,
   "id": "We35NNpDOc-N",
   "metadata": {
    "colab": {
     "base_uri": "https://localhost:8080/"
    },
    "executionInfo": {
     "elapsed": 8,
     "status": "ok",
     "timestamp": 1687611775018,
     "user": {
      "displayName": "Arindam Dey",
      "userId": "10651625546197419632"
     },
     "user_tz": -330
    },
    "id": "We35NNpDOc-N",
    "outputId": "3fa05e98-055a-4bb6-d082-77a4911d9e50"
   },
   "outputs": [
    {
     "ename": "ModuleNotFoundError",
     "evalue": "No module named 'sklearn'",
     "output_type": "error",
     "traceback": [
      "\u001b[1;31m---------------------------------------------------------------------------\u001b[0m",
      "\u001b[1;31mModuleNotFoundError\u001b[0m                       Traceback (most recent call last)",
      "Cell \u001b[1;32mIn[52], line 1\u001b[0m\n\u001b[1;32m----> 1\u001b[0m \u001b[38;5;28;01mfrom\u001b[39;00m \u001b[38;5;21;01msklearn\u001b[39;00m\u001b[38;5;21;01m.\u001b[39;00m\u001b[38;5;21;01mmetrics\u001b[39;00m \u001b[38;5;28;01mimport\u001b[39;00m classification_report\n\u001b[0;32m      2\u001b[0m \u001b[38;5;28mprint\u001b[39m(classification_report(testy, y_preds))\n",
      "\u001b[1;31mModuleNotFoundError\u001b[0m: No module named 'sklearn'"
     ]
    }
   ],
   "source": [
    "from sklearn.metrics import classification_report\n",
    "print(classification_report(testy, y_preds))"
   ]
  },
  {
   "cell_type": "code",
   "execution_count": null,
   "id": "FAtj5Ua3O0CF",
   "metadata": {
    "colab": {
     "base_uri": "https://localhost:8080/"
    },
    "executionInfo": {
     "elapsed": 1533,
     "status": "ok",
     "timestamp": 1687611776547,
     "user": {
      "displayName": "Arindam Dey",
      "userId": "10651625546197419632"
     },
     "user_tz": -330
    },
    "id": "FAtj5Ua3O0CF",
    "outputId": "55605915-e4b5-4e84-c435-f0ea87a24769"
   },
   "outputs": [],
   "source": [
    "cluster_centers = dec.model.layers[-1].clusters.numpy()\n",
    "labels = np.argmax(dec.model.predict(testX)[2],axis=1).squeeze()"
   ]
  },
  {
   "cell_type": "code",
   "execution_count": 50,
   "id": "cuAMmQJePpis",
   "metadata": {
    "executionInfo": {
     "elapsed": 6,
     "status": "ok",
     "timestamp": 1687611776547,
     "user": {
      "displayName": "Arindam Dey",
      "userId": "10651625546197419632"
     },
     "user_tz": -330
    },
    "id": "cuAMmQJePpis",
    "tags": []
   },
   "outputs": [
    {
     "name": "stdout",
     "output_type": "stream",
     "text": [
      "Collecting sklearn\n",
      "  Downloading sklearn-0.0.post5.tar.gz (3.7 kB)\n",
      "  Preparing metadata (setup.py): started\n",
      "  Preparing metadata (setup.py): finished with status 'done'\n",
      "Building wheels for collected packages: sklearn\n",
      "  Building wheel for sklearn (setup.py): started\n",
      "  Building wheel for sklearn (setup.py): finished with status 'done'\n",
      "  Created wheel for sklearn: filename=sklearn-0.0.post5-py3-none-any.whl size=2970 sha256=b1929ed1b279b39ca967dc2d2fb4a8c95a2e020ff88e468e766125961954c902\n",
      "  Stored in directory: c:\\users\\arind\\appdata\\local\\pip\\cache\\wheels\\36\\49\\c9\\2374f1dee1b599effabf63d948635e6608f62d0ccde027b7e2\n",
      "Successfully built sklearn\n",
      "Installing collected packages: sklearn\n",
      "Successfully installed sklearn-0.0.post5\n"
     ]
    }
   ],
   "source": [
    "!pip install sklearn"
   ]
  },
  {
   "cell_type": "code",
   "execution_count": 53,
   "id": "fffee068-4462-4c2b-867e-d31b1044ae5f",
   "metadata": {
    "tags": []
   },
   "outputs": [
    {
     "ename": "ModuleNotFoundError",
     "evalue": "No module named 'sklearn'",
     "output_type": "error",
     "traceback": [
      "\u001b[1;31m---------------------------------------------------------------------------\u001b[0m",
      "\u001b[1;31mModuleNotFoundError\u001b[0m                       Traceback (most recent call last)",
      "Cell \u001b[1;32mIn[53], line 1\u001b[0m\n\u001b[1;32m----> 1\u001b[0m \u001b[38;5;28;01mimport\u001b[39;00m \u001b[38;5;21;01msklearn\u001b[39;00m\n",
      "\u001b[1;31mModuleNotFoundError\u001b[0m: No module named 'sklearn'"
     ]
    }
   ],
   "source": [
    "import sklearn"
   ]
  },
  {
   "cell_type": "code",
   "execution_count": null,
   "id": "b1717408-7035-4221-8a07-fc8cc1200dc8",
   "metadata": {},
   "outputs": [],
   "source": []
  }
 ],
 "metadata": {
  "accelerator": "GPU",
  "colab": {
   "gpuType": "T4",
   "provenance": []
  },
  "kernelspec": {
   "display_name": "tf",
   "language": "python",
   "name": "tf"
  },
  "language_info": {
   "codemirror_mode": {
    "name": "ipython",
    "version": 3
   },
   "file_extension": ".py",
   "mimetype": "text/x-python",
   "name": "python",
   "nbconvert_exporter": "python",
   "pygments_lexer": "ipython3",
   "version": "3.9.16"
  }
 },
 "nbformat": 4,
 "nbformat_minor": 5
}
