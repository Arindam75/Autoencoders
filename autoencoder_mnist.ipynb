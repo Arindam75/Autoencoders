{
 "cells": [
  {
   "cell_type": "markdown",
   "id": "b939c9bd-9fc4-4262-b486-32724d2abc67",
   "metadata": {},
   "source": [
    "[GDL](https://github.com/davidADSP/GDL_code/blob/tensorflow_2/models/VAE.py)"
   ]
  },
  {
   "cell_type": "code",
   "execution_count": 3,
   "id": "3e46c793",
   "metadata": {
    "executionInfo": {
     "elapsed": 411,
     "status": "ok",
     "timestamp": 1687610357561,
     "user": {
      "displayName": "Arindam Dey",
      "userId": "10651625546197419632"
     },
     "user_tz": -330
    },
    "id": "3e46c793",
    "tags": []
   },
   "outputs": [],
   "source": [
    "import os\n",
    "import tensorflow as tf\n",
    "from tensorflow import keras\n",
    "from keras.layers import Input, Conv2D, Flatten, Dense, Conv2DTranspose, Reshape, Lambda, Activation, BatchNormalization, ReLU, Dropout\n",
    "from keras.models import Model\n",
    "from keras import backend as K\n",
    "from keras.optimizers import Adam\n",
    "from keras.callbacks import ModelCheckpoint,LearningRateScheduler, EarlyStopping, CSVLogger\n",
    "from keras.utils import plot_model\n",
    "import numpy as np\n",
    "import pickle\n",
    "import matplotlib.pyplot as plt"
   ]
  },
  {
   "cell_type": "code",
   "execution_count": 12,
   "id": "112bf636",
   "metadata": {
    "executionInfo": {
     "elapsed": 3,
     "status": "ok",
     "timestamp": 1687610359178,
     "user": {
      "displayName": "Arindam Dey",
      "userId": "10651625546197419632"
     },
     "user_tz": -330
    },
    "id": "112bf636",
    "tags": []
   },
   "outputs": [
    {
     "name": "stdout",
     "output_type": "stream",
     "text": [
      "Num GPUs Available:  1\n"
     ]
    }
   ],
   "source": [
    "K.clear_session()\n",
    "print(\"Num GPUs Available: \", len(tf.config.list_physical_devices('GPU')))"
   ]
  },
  {
   "cell_type": "code",
   "execution_count": 7,
   "id": "24d6f5f2",
   "metadata": {
    "colab": {
     "base_uri": "https://localhost:8080/"
    },
    "executionInfo": {
     "elapsed": 1459,
     "status": "ok",
     "timestamp": 1687610360635,
     "user": {
      "displayName": "Arindam Dey",
      "userId": "10651625546197419632"
     },
     "user_tz": -330
    },
    "id": "24d6f5f2",
    "outputId": "146e0098-2f81-4347-e995-fd77ae0a54b1",
    "tags": []
   },
   "outputs": [
    {
     "name": "stdout",
     "output_type": "stream",
     "text": [
      "Train: X=(60000, 28, 28), y=(60000,)\n",
      "Test: X=(10000, 28, 28), y=(10000,)\n"
     ]
    }
   ],
   "source": [
    "from tensorflow.keras.datasets import mnist\n",
    "# load dataset\n",
    "(trainX, trainy), (testX, testy) = mnist.load_data()\n",
    "\n",
    "trainX=trainX/255\n",
    "testX=testX/255\n",
    "\n",
    "# summarize loaded dataset\n",
    "print('Train: X=%s, y=%s' % (trainX.shape, trainy.shape))\n",
    "print('Test: X=%s, y=%s' % (testX.shape, testy.shape))"
   ]
  },
  {
   "cell_type": "code",
   "execution_count": 8,
   "id": "bb74b87f",
   "metadata": {
    "executionInfo": {
     "elapsed": 3,
     "status": "ok",
     "timestamp": 1687610360636,
     "user": {
      "displayName": "Arindam Dey",
      "userId": "10651625546197419632"
     },
     "user_tz": -330
    },
    "id": "bb74b87f",
    "tags": []
   },
   "outputs": [],
   "source": [
    "class AutoEncoder():\n",
    "\n",
    "    _ENC_FILTERS = [32,64,64,64]\n",
    "    _ENC_STRIDES = [1,2,2,1]\n",
    "    _FILTER_SIZE = [3,3,3,3]\n",
    "    _LATENT_SPACE = 32\n",
    "    _DEC_FILTERS = [64,64,32,1]\n",
    "    _DEC_STRIDES = [1,2,2,1]\n",
    "    _BATCH_NORM = True\n",
    "    _DROPOUT = 0.2\n",
    "\n",
    "    def __init__(self,input_dim, latent_space):\n",
    "\n",
    "        self.input_dim = input_dim\n",
    "        self.latent = latent_space\n",
    "\n",
    "    def _build_encoder(self):\n",
    "\n",
    "        encoder_input = Input(shape=self.input_dim,name='encoder_input')\n",
    "        x=encoder_input\n",
    "\n",
    "        for lyr in range(len(self._ENC_FILTERS)):\n",
    "\n",
    "            conv_layer = Conv2D(filters = self._ENC_FILTERS[lyr],\n",
    "                              kernel_size = self._FILTER_SIZE[lyr],\n",
    "                              strides = self._ENC_STRIDES[lyr],\n",
    "                              name = 'encoder_conv'+str(lyr),\n",
    "                              padding ='same')\n",
    "            x = conv_layer(x)\n",
    "            x = ReLU()(x)\n",
    "\n",
    "            if self._BATCH_NORM == True:\n",
    "                x = BatchNormalization()(x)\n",
    "\n",
    "        shape_before_flattening = K.int_shape(x)[1:]\n",
    "        x = Flatten()(x)\n",
    "        encoder_output = Dense(self.latent, name = 'encoder_output')(x)\n",
    "        encoder = Model(encoder_input, encoder_output, name = 'Encoder')\n",
    "\n",
    "        return encoder\n",
    "\n",
    "    def _build_decoder(self,shape_before_flattening):\n",
    "\n",
    "        decoder_input = Input(shape = self.latent,name = 'decoder_input')\n",
    "        x = Dense(np.prod(shape_before_flattening))(decoder_input)\n",
    "        x = Reshape(shape_before_flattening)(x)\n",
    "\n",
    "        for lyr in range(len(self._DEC_FILTERS)):\n",
    "\n",
    "            conv_t_layer = Conv2DTranspose(filters = self._DEC_FILTERS[lyr],\n",
    "                                         kernel_size = self._FILTER_SIZE[lyr],\n",
    "                                         strides=self._DEC_STRIDES[lyr],\n",
    "                                         name = 'decoder_conv_t'+str(lyr),\n",
    "                                         padding = 'same')\n",
    "            x = conv_t_layer(x)\n",
    "\n",
    "            if lyr<len(self._DEC_FILTERS)-1:\n",
    "\n",
    "                x = ReLU()(x)\n",
    "\n",
    "                if self._BATCH_NORM == True:\n",
    "                    x = BatchNormalization()(x)\n",
    "            else:\n",
    "                x=Activation('sigmoid')(x)\n",
    "\n",
    "        decoder_output = x\n",
    "        decoder = Model(decoder_input,decoder_output, name = 'Decoder')\n",
    "        return decoder\n",
    "\n",
    "    def fit(self,Xtr,Xval,**kwargs):\n",
    "\n",
    "        self.initial_lr = kwargs.get(\"initial_lr\", 0.001)\n",
    "        self.batch_size = kwargs.get(\"batch_size\", 32)\n",
    "        self.callbacks_list = kwargs.get(\"callbacks_list\", [])\n",
    "        self.epochs = kwargs.get(\"epochs\", 100)\n",
    "        self.shuffle = kwargs.get(\"shuffle\", True)\n",
    "\n",
    "        model, decoder, encoder = self.get_model()\n",
    "\n",
    "        model.fit(Xtr, Xtr,\n",
    "                       batch_size = self.batch_size,\n",
    "                       validation_data = (Xval,Xval),\n",
    "                       shuffle = self.shuffle,\n",
    "                       epochs = self.epochs,\n",
    "                       callbacks = self.callbacks_list)\n",
    "\n",
    "        self.model = model\n",
    "        self.decoder = decoder\n",
    "        self.encoder = encoder\n",
    "\n",
    "    def get_model(self):\n",
    "\n",
    "        #Autoencoder Layer\n",
    "        encoder = self._build_encoder()\n",
    "        shape_before_flattening = encoder.layers[-5].get_output_at(0).get_shape().as_list()[1:]\n",
    "        decoder = self._build_decoder(shape_before_flattening)\n",
    "\n",
    "        model_input = Input(shape=self.input_dim,name = 'encoder_input')\n",
    "        encoder_op = encoder(model_input)\n",
    "        decoder_op = decoder(encoder_op)\n",
    "\n",
    "        model = Model(model_input,decoder_op,name = 'ae_model')\n",
    "\n",
    "        model.compile(optimizer = Adam(learning_rate  = 0.001),\n",
    "                           loss = 'mean_squared_error')\n",
    "\n",
    "        return model, decoder, encoder"
   ]
  },
  {
   "cell_type": "code",
   "execution_count": 9,
   "id": "22ef9bac",
   "metadata": {
    "executionInfo": {
     "elapsed": 3,
     "status": "ok",
     "timestamp": 1687610360636,
     "user": {
      "displayName": "Arindam Dey",
      "userId": "10651625546197419632"
     },
     "user_tz": -330
    },
    "id": "22ef9bac",
    "tags": []
   },
   "outputs": [
    {
     "name": "stdout",
     "output_type": "stream",
     "text": [
      "Model: \"ae_model\"\n",
      "_________________________________________________________________\n",
      " Layer (type)                Output Shape              Param #   \n",
      "=================================================================\n",
      " encoder_input (InputLayer)  [(None, 28, 28, 1)]       0         \n",
      "                                                                 \n",
      " Encoder (Functional)        (None, 16)                143760    \n",
      "                                                                 \n",
      " Decoder (Functional)        (None, 28, 28, 1)         146561    \n",
      "                                                                 \n",
      "=================================================================\n",
      "Total params: 290,321\n",
      "Trainable params: 289,553\n",
      "Non-trainable params: 768\n",
      "_________________________________________________________________\n"
     ]
    }
   ],
   "source": [
    "ae = AutoEncoder(input_dim=(28,28,1), latent_space = 16)\n",
    "model, decoder, encoder = ae.get_model()\n",
    "model.summary()"
   ]
  },
  {
   "cell_type": "code",
   "execution_count": 10,
   "id": "6016817c-5656-438f-9c1a-bcb45c0dcb3a",
   "metadata": {},
   "outputs": [],
   "source": [
    "log_path = './artefacts/logs/'\n",
    "model_path =  './artefacts/model/'"
   ]
  },
  {
   "cell_type": "code",
   "execution_count": 13,
   "id": "e8b6fc93-6c95-4efc-b118-95f0fe4aef2e",
   "metadata": {
    "colab": {
     "base_uri": "https://localhost:8080/"
    },
    "executionInfo": {
     "elapsed": 1407686,
     "status": "ok",
     "timestamp": 1687611769847,
     "user": {
      "displayName": "Arindam Dey",
      "userId": "10651625546197419632"
     },
     "user_tz": -330
    },
    "id": "e8b6fc93-6c95-4efc-b118-95f0fe4aef2e",
    "outputId": "0d1a05a5-cf39-44ee-9440-4e543ee42138",
    "tags": []
   },
   "outputs": [
    {
     "name": "stdout",
     "output_type": "stream",
     "text": [
      "Epoch 1/100\n",
      "3749/3750 [============================>.] - ETA: 0s - loss: 0.0159\n",
      "Epoch 1: saving model to ./artefacts/model\\ae_weights.h5\n",
      "3750/3750 [==============================] - 67s 17ms/step - loss: 0.0159 - val_loss: 0.0099\n",
      "Epoch 2/100\n",
      "3748/3750 [============================>.] - ETA: 0s - loss: 0.0089\n",
      "Epoch 2: saving model to ./artefacts/model\\ae_weights.h5\n",
      "3750/3750 [==============================] - 68s 18ms/step - loss: 0.0089 - val_loss: 0.0083\n",
      "Epoch 3/100\n",
      "3747/3750 [============================>.] - ETA: 0s - loss: 0.0079\n",
      "Epoch 3: saving model to ./artefacts/model\\ae_weights.h5\n",
      "3750/3750 [==============================] - 64s 17ms/step - loss: 0.0079 - val_loss: 0.0075\n",
      "Epoch 4/100\n",
      "3747/3750 [============================>.] - ETA: 0s - loss: 0.0073\n",
      "Epoch 4: saving model to ./artefacts/model\\ae_weights.h5\n",
      "3750/3750 [==============================] - 63s 17ms/step - loss: 0.0073 - val_loss: 0.0069\n",
      "Epoch 5/100\n",
      "3748/3750 [============================>.] - ETA: 0s - loss: 0.0069\n",
      "Epoch 5: saving model to ./artefacts/model\\ae_weights.h5\n",
      "3750/3750 [==============================] - 65s 17ms/step - loss: 0.0069 - val_loss: 0.0074\n",
      "Epoch 6/100\n",
      "3750/3750 [==============================] - ETA: 0s - loss: 0.0067\n",
      "Epoch 6: saving model to ./artefacts/model\\ae_weights.h5\n",
      "3750/3750 [==============================] - 67s 18ms/step - loss: 0.0067 - val_loss: 0.0068\n",
      "Epoch 7/100\n",
      "3748/3750 [============================>.] - ETA: 0s - loss: 0.0065\n",
      "Epoch 7: saving model to ./artefacts/model\\ae_weights.h5\n",
      "3750/3750 [==============================] - 63s 17ms/step - loss: 0.0065 - val_loss: 0.0064\n",
      "Epoch 8/100\n",
      "3750/3750 [==============================] - ETA: 0s - loss: 0.0063\n",
      "Epoch 8: saving model to ./artefacts/model\\ae_weights.h5\n",
      "3750/3750 [==============================] - 62s 17ms/step - loss: 0.0063 - val_loss: 0.0064\n",
      "Epoch 9/100\n",
      "3750/3750 [==============================] - ETA: 0s - loss: 0.0062\n",
      "Epoch 9: saving model to ./artefacts/model\\ae_weights.h5\n",
      "3750/3750 [==============================] - 63s 17ms/step - loss: 0.0062 - val_loss: 0.0063\n",
      "Epoch 10/100\n",
      "3748/3750 [============================>.] - ETA: 0s - loss: 0.0061\n",
      "Epoch 10: saving model to ./artefacts/model\\ae_weights.h5\n",
      "3750/3750 [==============================] - 63s 17ms/step - loss: 0.0061 - val_loss: 0.0062\n",
      "Epoch 11/100\n",
      "3750/3750 [==============================] - ETA: 0s - loss: 0.0060\n",
      "Epoch 11: saving model to ./artefacts/model\\ae_weights.h5\n",
      "3750/3750 [==============================] - 63s 17ms/step - loss: 0.0060 - val_loss: 0.0061\n",
      "Epoch 12/100\n",
      "3749/3750 [============================>.] - ETA: 0s - loss: 0.0059\n",
      "Epoch 12: saving model to ./artefacts/model\\ae_weights.h5\n",
      "3750/3750 [==============================] - 62s 17ms/step - loss: 0.0059 - val_loss: 0.0061\n",
      "Epoch 13/100\n",
      "3750/3750 [==============================] - ETA: 0s - loss: 0.0058\n",
      "Epoch 13: saving model to ./artefacts/model\\ae_weights.h5\n",
      "3750/3750 [==============================] - 62s 17ms/step - loss: 0.0058 - val_loss: 0.0060\n",
      "Epoch 14/100\n",
      "3747/3750 [============================>.] - ETA: 0s - loss: 0.0057\n",
      "Epoch 14: saving model to ./artefacts/model\\ae_weights.h5\n",
      "3750/3750 [==============================] - 62s 17ms/step - loss: 0.0057 - val_loss: 0.0062\n"
     ]
    }
   ],
   "source": [
    "early_stopper = EarlyStopping(monitor='val_loss', min_delta=0.001, patience=10)\n",
    "checkpoint= ModelCheckpoint(model_path+'ae_weights.h5', save_weights_only = True, verbose=1)\n",
    "csv_logger = CSVLogger(log_path+'ae_training.csv')\n",
    "\n",
    "\n",
    "callbacks_list=[early_stopper, checkpoint,csv_logger]\n",
    "ae.fit(trainX,testX, epochs = 100, batch_size = 16, callbacks_list = callbacks_list)"
   ]
  },
  {
   "cell_type": "code",
   "execution_count": 15,
   "id": "1d974e2f-a47c-4b7c-8237-71b125f16820",
   "metadata": {
    "colab": {
     "base_uri": "https://localhost:8080/",
     "height": 338
    },
    "executionInfo": {
     "elapsed": 2340,
     "status": "ok",
     "timestamp": 1687611772174,
     "user": {
      "displayName": "Arindam Dey",
      "userId": "10651625546197419632"
     },
     "user_tz": -330
    },
    "id": "1d974e2f-a47c-4b7c-8237-71b125f16820",
    "outputId": "5b49c9a3-7613-48bd-a8da-6a9df79040bc",
    "tags": []
   },
   "outputs": [
    {
     "name": "stdout",
     "output_type": "stream",
     "text": [
      "1/1 [==============================] - 1s 837ms/step\n"
     ]
    },
    {
     "data": {
      "image/png": "[encoded data removed]",
      "text/plain": [
       "<Figure size 1600x400 with 20 Axes>"
      ]
     },
     "metadata": {},
     "output_type": "display_data"
    }
   ],
   "source": [
    "samples = np.random.randint(0,testX.shape[0],10)\n",
    "testX_recons = ae.model.predict(testX[samples])\n",
    "\n",
    "fig,axn=plt.subplots(2,10,sharex='col',sharey='row',figsize=(16,4))\n",
    "for n,i in enumerate(samples):\n",
    "    axn[0,n].imshow(testX[i], cmap = 'gray')\n",
    "    axn[1,n].imshow(testX_recons[n],cmap = 'gray')"
   ]
  },
  {
   "cell_type": "code",
   "execution_count": null,
   "id": "404c0a75-5d2e-4c19-a5df-518bd7bfaeb0",
   "metadata": {},
   "outputs": [],
   "source": []
  }
 ],
 "metadata": {
  "accelerator": "GPU",
  "colab": {
   "gpuType": "T4",
   "provenance": []
  },
  "kernelspec": {
   "display_name": "tf",
   "language": "python",
   "name": "tf"
  },
  "language_info": {
   "codemirror_mode": {
    "name": "ipython",
    "version": 3
   },
   "file_extension": ".py",
   "mimetype": "text/x-python",
   "name": "python",
   "nbconvert_exporter": "python",
   "pygments_lexer": "ipython3",
   "version": "3.9.16"
  }
 },
 "nbformat": 4,
 "nbformat_minor": 5
}
